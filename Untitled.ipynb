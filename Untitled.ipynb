{
 "cells": [
  {
   "cell_type": "markdown",
   "id": "eb2e215f",
   "metadata": {},
   "source": [
    "# Text sentiment analysis"
   ]
  },
  {
   "cell_type": "code",
   "execution_count": 10,
   "id": "a628f57f",
   "metadata": {},
   "outputs": [],
   "source": [
    "# !pip install -U textblob"
   ]
  },
  {
   "cell_type": "markdown",
   "id": "ecf8ea73",
   "metadata": {},
   "source": [
    "[Data link](https://www.kaggle.com/datasets/kazanova/sentiment140)"
   ]
  },
  {
   "cell_type": "code",
   "execution_count": 6,
   "id": "d9a451c9",
   "metadata": {},
   "outputs": [],
   "source": [
    "from textblob import TextBlob\n",
    "def stringToSentiment(text):\n",
    "    return TextBlob(text).sentiment.polarity"
   ]
  },
  {
   "cell_type": "code",
   "execution_count": 7,
   "id": "c288ae3c",
   "metadata": {},
   "outputs": [
    {
     "data": {
      "text/plain": [
       "-0.8"
      ]
     },
     "execution_count": 7,
     "metadata": {},
     "output_type": "execute_result"
    }
   ],
   "source": [
    " stringToSentiment('i hate you')"
   ]
  },
  {
   "cell_type": "code",
   "execution_count": 8,
   "id": "3826366a",
   "metadata": {},
   "outputs": [
    {
     "data": {
      "text/plain": [
       "0.0"
      ]
     },
     "execution_count": 8,
     "metadata": {},
     "output_type": "execute_result"
    }
   ],
   "source": [
    " stringToSentiment('You get 30% discount')"
   ]
  },
  {
   "cell_type": "code",
   "execution_count": 11,
   "id": "4821315a",
   "metadata": {},
   "outputs": [],
   "source": [
    "import pandas as pd\n",
    "%matplotlib inline"
   ]
  },
  {
   "cell_type": "code",
   "execution_count": null,
   "id": "60293a78",
   "metadata": {},
   "outputs": [],
   "source": [
    "tweets = "
   ]
  }
 ],
 "metadata": {
  "kernelspec": {
   "display_name": "Python 3 (ipykernel)",
   "language": "python",
   "name": "python3"
  },
  "language_info": {
   "codemirror_mode": {
    "name": "ipython",
    "version": 3
   },
   "file_extension": ".py",
   "mimetype": "text/x-python",
   "name": "python",
   "nbconvert_exporter": "python",
   "pygments_lexer": "ipython3",
   "version": "3.9.6"
  }
 },
 "nbformat": 4,
 "nbformat_minor": 5
}
